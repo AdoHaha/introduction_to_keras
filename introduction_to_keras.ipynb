{
 "cells": [
  {
   "cell_type": "markdown",
   "metadata": {
    "slideshow": {
     "slide_type": "slide"
    }
   },
   "source": [
    "# introduction to Keras\n",
    "\n",
    "\n",
    "![keras logo](img/keras-logo.png)\n",
    "\n",
    "Igor Zubrycki\n",
    "\n",
    "igorzubrycki@gmail.com"
   ]
  },
  {
   "cell_type": "markdown",
   "metadata": {
    "slideshow": {
     "slide_type": "slide"
    }
   },
   "source": [
    "# Keras is a **Python** **Deep Learning** library\n",
    "\n",
    " - Q1: Who knows what deep learning is?\n",
    " - Q2: Who used deep learning\n",
    " - Q3: Who uses deep learning in ongoing (large) project / finished such\n"
   ]
  },
  {
   "cell_type": "markdown",
   "metadata": {
    "slideshow": {
     "slide_type": "slide"
    }
   },
   "source": [
    "# LEARNING\n",
    "as in  Machine *Learning*\n",
    "\n",
    "How do we use previous experience/ data to decide in new situations/ using new data\n",
    "\n"
   ]
  },
  {
   "cell_type": "markdown",
   "metadata": {
    "slideshow": {
     "slide_type": "subslide"
    }
   },
   "source": [
    "Problems:\n",
    "\n",
    "How we qualify data?\n",
    "- classification\n",
    "- regression\n",
    "\n",
    "How we divide/ describe data?\n",
    " -  unsupervised learning\n",
    " - encoding (autoencoders, GAN's ...)\n",
    "\n",
    "How we move to forward towards a (far) goal\n",
    "- reinforced learning"
   ]
  },
  {
   "cell_type": "markdown",
   "metadata": {
    "slideshow": {
     "slide_type": "slide"
    }
   },
   "source": [
    "# Neural Networks\n",
    "\n",
    "## ( This is what will be deep)\n",
    "\n",
    "Two parts:\n",
    "\n",
    " - Network: connect results of various calculations in meaningfull way\n",
    " - Neural: parts of neural network structure act is similar ways as neurons do"
   ]
  },
  {
   "cell_type": "markdown",
   "metadata": {
    "slideshow": {
     "slide_type": "slide"
    }
   },
   "source": [
    "# Neural Network ZOO\n",
    "\n",
    "![](img/nn_zoo.jpg)"
   ]
  },
  {
   "cell_type": "markdown",
   "metadata": {
    "slideshow": {
     "slide_type": "slide"
    }
   },
   "source": [
    "# So Neural Networks used to suck\n",
    "\n",
    " - Computationaly heavy\n",
    " - Low interpretability\n",
    " - Little of no guarantees of stability/ generalizability\n",
    " "
   ]
  },
  {
   "cell_type": "markdown",
   "metadata": {
    "slideshow": {
     "slide_type": "slide"
    }
   },
   "source": [
    "# Enter the Deep learning\n",
    "\n",
    "It turns out that by stacking (tens) of \"layers\" and using right computatational blocks results can be very good\n",
    "\n",
    "## Given big data and computational resources to train on this data"
   ]
  },
  {
   "cell_type": "markdown",
   "metadata": {
    "slideshow": {
     "slide_type": "subslide"
    }
   },
   "source": [
    "### Deep means the number of layers\n",
    "![](img/imagenet_vgg16.png)\n",
    "\n",
    "VGG16"
   ]
  },
  {
   "cell_type": "markdown",
   "metadata": {
    "slideshow": {
     "slide_type": "subslide"
    }
   },
   "source": [
    "\n",
    "![](img/imagenet_xception_flow.png)"
   ]
  },
  {
   "cell_type": "markdown",
   "metadata": {
    "slideshow": {
     "slide_type": "subslide"
    }
   },
   "source": [
    "# Feature learning -- conectivism\n",
    "\n",
    "![](img/recognize_dog.png)\n",
    "\n",
    "Source: https://ml.berkeley.edu/blog/assets/tutorials/3/recognize%20dog%20neural%20network.png"
   ]
  },
  {
   "cell_type": "markdown",
   "metadata": {
    "slideshow": {
     "slide_type": "slide"
    }
   },
   "source": [
    "One of reasons of the current deep learning explosion is the tooling\n",
    "\n",
    "How to do it at all (MATLAB ...) -> How to do it on GPU's (Torch, Caffe) --> In python (Theano, Tensorflow) -> How to do it pleasanly (Lasagne, Keras, pytorch ...)  -> How to do it in production (Keras ?? Tensorflow, mxnet)\n"
   ]
  },
  {
   "cell_type": "markdown",
   "metadata": {
    "slideshow": {
     "slide_type": "slide"
    }
   },
   "source": [
    "\" Żmudna i nudna otoczka stanowiąca 90% projektu\"\n",
    "\n",
    "In general Deep Neural Networks require:\n",
    "    - Large data sets\n",
    "    - (extremely) Long computations or (extremaly) large computational resources\n"
   ]
  },
  {
   "cell_type": "markdown",
   "metadata": {
    "slideshow": {
     "slide_type": "subslide"
    }
   },
   "source": [
    "Keras helps handle the data and provides tools for handling the computation process"
   ]
  },
  {
   "cell_type": "markdown",
   "metadata": {
    "slideshow": {
     "slide_type": "slide"
    }
   },
   "source": [
    "# Let's do an example"
   ]
  },
  {
   "cell_type": "markdown",
   "metadata": {
    "slideshow": {
     "slide_type": "slide"
    }
   },
   "source": [
    "### We will first play with fashion MNIST a simple benchmark but for fashion\n"
   ]
  },
  {
   "cell_type": "code",
   "execution_count": 9,
   "metadata": {
    "scrolled": true,
    "slideshow": {
     "slide_type": "skip"
    }
   },
   "outputs": [],
   "source": [
    "from keras.datasets import fashion_mnist\n",
    "\n",
    "#download an example dataset - Fashion MNIST\n",
    "(x_train, y_train), (x_test, y_test) = fashion_mnist.load_data()\n",
    "print(x_train.shape)\n"
   ]
  },
  {
   "cell_type": "code",
   "execution_count": 69,
   "metadata": {
    "slideshow": {
     "slide_type": "skip"
    }
   },
   "outputs": [
    {
     "data": {
      "image/png": "[encoded data removed]",
      "text/plain": [
       "<matplotlib.figure.Figure at 0x7f16d4ff4b70>"
      ]
     },
     "metadata": {},
     "output_type": "display_data"
    }
   ],
   "source": [
    "%matplotlib inline\n",
    "\n",
    "import pylab as plt\n",
    "import random\n",
    "def show_fashion(n_rows =4,n_cols=5):\n",
    "    fig = plt.figure()\n",
    "\n",
    "    fig.tight_layout()\n",
    "    fig.set_size_inches((0.5,0.5))\n",
    "    n_images=n_rows*n_cols\n",
    "    for y in range(n_images):\n",
    "            new_plot=fig.add_subplot(n_rows,n_cols,y+1)\n",
    "            el=random.randint(0,len(x_train))\n",
    "            #print(el)\n",
    "            plt.imshow(x_train[el,:,:], cmap='gray')\n",
    "            plt.axis(\"off\")\n",
    "\n",
    "    fig.set_size_inches(np.array(fig.get_size_inches()) * n_images)\n",
    "    fig.savefig(\"img/fashion.jpg\")\n",
    "    plt.show()\n",
    "show_fashion()"
   ]
  },
  {
   "cell_type": "markdown",
   "metadata": {
    "slideshow": {
     "slide_type": "subslide"
    }
   },
   "source": [
    "![](img/fashion.jpg)"
   ]
  },
  {
   "cell_type": "markdown",
   "metadata": {
    "slideshow": {
     "slide_type": "subslide"
    }
   },
   "source": [
    "### Which piece of clothing this is?\n",
    "\n",
    "Choose from: \n",
    "\n",
    "0.\tT-shirt/top\n",
    "1.\tTrouser\n",
    "2.\tPullover\n",
    "3.\tDress\n",
    "4.\tCoat\n",
    "5.\tSandal\n",
    "6.\tShirt\n",
    "7.\tSneaker\n",
    "8.\tBag\n",
    "9.\tAnkle boot"
   ]
  },
  {
   "cell_type": "markdown",
   "metadata": {
    "slideshow": {
     "slide_type": "subslide"
    }
   },
   "source": [
    "Results with classical ML methods (max 0.897  for Support Vector Classification, 0.888 GradientBoostingClassifier, RandomForestClassifier 0.879) *Human performance* 0.835 (Crowd-sourced evaluation of human (with no fashion expertise) performance. 1000 randomly sampled test images, 3 labels per image, majority labelling.) [Fashion-mnist](https://github.com/zalandoresearch/fashion-mnist)"
   ]
  },
  {
   "cell_type": "code",
   "execution_count": null,
   "metadata": {
    "slideshow": {
     "slide_type": "slide"
    }
   },
   "outputs": [],
   "source": [
    "### Lets load and prepare data \n"
   ]
  },
  {
   "cell_type": "code",
   "execution_count": 118,
   "metadata": {
    "slideshow": {
     "slide_type": "fragment"
    }
   },
   "outputs": [
    {
     "name": "stdout",
     "output_type": "stream",
     "text": [
      "x_train shape: (60000, 28, 28, 1)\n",
      "60000 train samples\n",
      "10000 test samples\n"
     ]
    }
   ],
   "source": [
    "from keras import backend as K\n",
    "import keras\n",
    "\n",
    "img_rows, img_cols = 28, 28\n",
    "\n",
    "# the data, shuffled and split between train and test sets\n",
    "(x_train, y_train), (x_test, y_test) = fashion_mnist.load_data()\n",
    "\n",
    "if K.image_data_format() == 'channels_first':\n",
    "    x_train = x_train.reshape(x_train.shape[0], 1, img_rows, img_cols)\n",
    "    x_test = x_test.reshape(x_test.shape[0], 1, img_rows, img_cols)\n",
    "    input_shape = (1, img_rows, img_cols)\n",
    "else:\n",
    "    x_train = x_train.reshape(x_train.shape[0], img_rows, img_cols, 1)\n",
    "    x_test = x_test.reshape(x_test.shape[0], img_rows, img_cols, 1)\n",
    "    input_shape = (img_rows, img_cols, 1)\n",
    "\n",
    "x_train = x_train.astype('float32')\n",
    "x_test = x_test.astype('float32')\n",
    "x_train /= 255\n",
    "x_test /= 255\n",
    "\n",
    "print('x_train shape:', x_train.shape)\n",
    "print(x_train.shape[0], 'train samples')\n",
    "print(x_test.shape[0], 'test samples')"
   ]
  },
  {
   "cell_type": "code",
   "execution_count": 120,
   "metadata": {
    "slideshow": {
     "slide_type": "subslide"
    }
   },
   "outputs": [
    {
     "name": "stdout",
     "output_type": "stream",
     "text": [
      "9 [ 0.  0.  0.  0.  0.  0.  0.  0.  0.  1.]\n",
      "8 [ 0.  0.  0.  0.  0.  0.  0.  0.  1.  0.]\n"
     ]
    }
   ],
   "source": [
    "### We need also to prepare y -- one hot encoding\n",
    "num_classes=10\n",
    "y_train_hot = keras.utils.to_categorical(y_train, num_classes)\n",
    "y_test_hot = keras.utils.to_categorical(y_test, num_classes)\n",
    "\n",
    "print(y_train[0],y_train_hot[0])\n",
    "\n",
    "print(y_train[100],y_train_hot[100])"
   ]
  },
  {
   "cell_type": "markdown",
   "metadata": {
    "slideshow": {
     "slide_type": "slide"
    }
   },
   "source": [
    "### Lets become network architects\n",
    "\n",
    "\n",
    "\n"
   ]
  },
  {
   "cell_type": "code",
   "execution_count": 111,
   "metadata": {
    "slideshow": {
     "slide_type": "fragment"
    }
   },
   "outputs": [],
   "source": [
    "from keras.layers import Input, Dense, Conv2D, Flatten, Dropout, Activation, MaxPooling2D\n",
    "from keras.models import Model\n",
    "\n",
    "inputs = Input(shape=(28,28,1)) #one color\n",
    "conv= Conv2D(64, (3,3), activation='relu')(inputs)\n",
    "conv= Conv2D(32, (3,3), activation='relu')(conv)\n",
    "pool= MaxPooling2D(pool_size=(2,2))(conv)\n",
    "dropout=Dropout(0.25)(pool)\n",
    "\n",
    "flatten=Flatten()(pool)\n",
    "output=Dense(10, activation=\"softmax\")(flatten)\n",
    "\n"
   ]
  },
  {
   "cell_type": "code",
   "execution_count": 112,
   "metadata": {
    "slideshow": {
     "slide_type": "subslide"
    }
   },
   "outputs": [],
   "source": [
    "model= Model(inputs=inputs, outputs=output)\n",
    "model.compile(optimizer='rmsprop', loss='categorical_crossentropy', metrics=['accuracy'])\n"
   ]
  },
  {
   "cell_type": "code",
   "execution_count": 115,
   "metadata": {
    "scrolled": true
   },
   "outputs": [
    {
     "name": "stdout",
     "output_type": "stream",
     "text": [
      "Train on 60000 samples, validate on 10000 samples\n",
      "Epoch 1/3\n",
      "60000/60000 [==============================] - 151s 3ms/step - loss: 0.3322 - acc: 0.8816 - val_loss: 0.3584 - val_acc: 0.8651\n",
      "Epoch 2/3\n",
      "60000/60000 [==============================] - 148s 2ms/step - loss: 0.2897 - acc: 0.8969 - val_loss: 0.3411 - val_acc: 0.8803\n",
      "Epoch 3/3\n",
      "60000/60000 [==============================] - 148s 2ms/step - loss: 0.2622 - acc: 0.9064 - val_loss: 0.2777 - val_acc: 0.9022\n"
     ]
    }
   ],
   "source": [
    "history=model.fit(x_train,y_train_hot, batch_size=256, validation_data=(x_test,y_test_hot), epochs=3)\n",
    "\n",
    "## yay, our non-deep deep learning model achieved around SOTA for non DL models ;)\n",
    "\n"
   ]
  },
  {
   "cell_type": "code",
   "execution_count": 133,
   "metadata": {
    "slideshow": {
     "slide_type": "skip"
    }
   },
   "outputs": [],
   "source": [
    "import itertools\n",
    "import numpy as np\n",
    "import matplotlib.pyplot as plt\n",
    "\n",
    "from sklearn import svm, datasets\n",
    "from sklearn.model_selection import train_test_split\n",
    "from sklearn.metrics import confusion_matrix\n",
    "\n",
    "def plot_confusion_matrix(cm, classes,\n",
    "                          normalize=False,\n",
    "                          title='Confusion matrix',\n",
    "                          cmap=plt.cm.Blues):\n",
    "    \"\"\"\n",
    "    This function prints and plots the confusion matrix.\n",
    "    Normalization can be applied by setting `normalize=True`.\n",
    "    \"\"\"\n",
    "    if normalize:\n",
    "        cm = cm.astype('float') / cm.sum(axis=1)[:, np.newaxis]\n",
    "        print(\"Normalized confusion matrix\")\n",
    "    else:\n",
    "        print('Confusion matrix, without normalization')\n",
    "\n",
    "    #print(cm)\n",
    "\n",
    "    plt.imshow(cm, interpolation='nearest', cmap=cmap)\n",
    "    plt.title(title)\n",
    "    plt.colorbar()\n",
    "    tick_marks = np.arange(len(classes))\n",
    "    plt.xticks(tick_marks, classes, rotation=45)\n",
    "    plt.yticks(tick_marks, classes)\n",
    "\n",
    "    fmt = '.2f' if normalize else 'd'\n",
    "    thresh = cm.max() / 2.\n",
    "    for i, j in itertools.product(range(cm.shape[0]), range(cm.shape[1])):\n",
    "        plt.text(j, i, format(cm[i, j], fmt),\n",
    "                 horizontalalignment=\"center\",\n",
    "                 color=\"white\" if cm[i, j] > thresh else \"black\")\n",
    "\n",
    "    plt.tight_layout()\n",
    "    plt.ylabel('True label')\n",
    "    plt.xlabel('Predicted label')"
   ]
  },
  {
   "cell_type": "code",
   "execution_count": 134,
   "metadata": {},
   "outputs": [
    {
     "name": "stdout",
     "output_type": "stream",
     "text": [
      "             precision    recall  f1-score   support\n",
      "\n",
      "    Sneaker       0.81      0.91      0.86      1000\n",
      "     Sandal       0.99      0.97      0.98      1000\n",
      " Ankle boot       0.84      0.84      0.84      1000\n",
      "    Trouser       0.90      0.92      0.91      1000\n",
      "      Shirt       0.80      0.88      0.84      1000\n",
      "T-shirt/top       0.98      0.98      0.98      1000\n",
      "        Bag       0.82      0.62      0.71      1000\n",
      "       Coat       0.94      0.98      0.96      1000\n",
      "   Pullover       0.97      0.98      0.97      1000\n",
      "      Dress       0.99      0.94      0.96      1000\n",
      "\n",
      "avg / total       0.90      0.90      0.90     10000\n",
      "\n",
      "Normalized confusion matrix\n"
     ]
    },
    {
     "data": {
      "image/png": "[encoded data removed]",
      "text/plain": [
       "<matplotlib.figure.Figure at 0x7f16d53f2390>"
      ]
     },
     "metadata": {},
     "output_type": "display_data"
    }
   ],
   "source": [
    "from sklearn.metrics import classification_report\n",
    "predicted_classes= model.predict(x_test)\n",
    "predicted_to_cat=np.argmax(predicted_classes, axis=1)\n",
    "target_names=[\"T-shirt/top\",\"Trouser\",\"Pullover\",\"Dress\",\"Coat\",\"Sandal\",\"Shirt\",\"Sneaker\",\"Bag\",\"Ankle boot\"]\n",
    "names_dict=dict(zip(target_names,range(10)))\n",
    "print(classification_report(y_test, predicted_to_cat, target_names=names_dict))\n",
    "\n"
   ]
  },
  {
   "cell_type": "code",
   "execution_count": 137,
   "metadata": {},
   "outputs": [
    {
     "name": "stdout",
     "output_type": "stream",
     "text": [
      "Normalized confusion matrix\n"
     ]
    },
    {
     "data": {
      "image/png": "[encoded data removed]",
      "text/plain": [
       "<matplotlib.figure.Figure at 0x7f16b9edfc50>"
      ]
     },
     "metadata": {},
     "output_type": "display_data"
    }
   ],
   "source": [
    "from sklearn.metrics import confusion_matrix\n",
    "cnf_matrix = confusion_matrix(y_test, predicted_to_cat)\n",
    "plt.figure(figsize=(7,7))\n",
    "plot_confusion_matrix(cnf_matrix, classes=target_names, normalize=True,\n",
    "                      title='Normalized confusion matrix')\n",
    "\n",
    "plt.show()\n"
   ]
  },
  {
   "cell_type": "code",
   "execution_count": 138,
   "metadata": {},
   "outputs": [],
   "source": [
    "def deeper(prev_layer,dropout_level=0.5):\n",
    "    conv= Conv2D(32, (3,3), activation='relu')(prev_layer)\n",
    "    conv= Conv2D(32, (3,3), activation='relu')(conv)\n",
    "    pool= MaxPooling2D(pool_size=(2,2))(conv)\n",
    "    dropout=Dropout(dropout_level)(pool)\n",
    "    return pool\n",
    "    "
   ]
  },
  {
   "cell_type": "code",
   "execution_count": 139,
   "metadata": {},
   "outputs": [],
   "source": [
    "inputs = Input(shape=(28,28,1)) #one color\n",
    "d1=deeper(inputs)\n",
    "d2=deeper(d1)\n",
    "flatten=Flatten()(d2)\n",
    "dense1=Dense(128, activation=\"relu\")(flatten)\n",
    "dropout=Dropout(0.4)(dense1)\n",
    "final=Dense(num_classes,activation=\"softmax\")(dropout)\n",
    "\n",
    "model_deeper= Model(inputs=inputs, outputs=final)\n",
    "model_deeper.compile(optimizer='rmsprop', loss='categorical_crossentropy', metrics=['accuracy'])\n",
    "\n"
   ]
  },
  {
   "cell_type": "code",
   "execution_count": 143,
   "metadata": {},
   "outputs": [
    {
     "name": "stdout",
     "output_type": "stream",
     "text": [
      "_________________________________________________________________\n",
      "Layer (type)                 Output Shape              Param #   \n",
      "=================================================================\n",
      "input_16 (InputLayer)        (None, 28, 28, 1)         0         \n",
      "_________________________________________________________________\n",
      "conv2d_17 (Conv2D)           (None, 26, 26, 64)        640       \n",
      "_________________________________________________________________\n",
      "conv2d_18 (Conv2D)           (None, 24, 24, 32)        18464     \n",
      "_________________________________________________________________\n",
      "max_pooling2d_8 (MaxPooling2 (None, 12, 12, 32)        0         \n",
      "_________________________________________________________________\n",
      "flatten_8 (Flatten)          (None, 4608)              0         \n",
      "_________________________________________________________________\n",
      "dense_6 (Dense)              (None, 10)                46090     \n",
      "=================================================================\n",
      "Total params: 65,194\n",
      "Trainable params: 65,194\n",
      "Non-trainable params: 0\n",
      "_________________________________________________________________\n"
     ]
    }
   ],
   "source": [
    "model.summary()"
   ]
  },
  {
   "cell_type": "code",
   "execution_count": 142,
   "metadata": {},
   "outputs": [
    {
     "name": "stdout",
     "output_type": "stream",
     "text": [
      "Train on 60000 samples, validate on 10000 samples\n",
      "Epoch 1/6\n",
      "60000/60000 [==============================] - 82s 1ms/step - loss: 0.3250 - acc: 0.8828 - val_loss: 0.3273 - val_acc: 0.8776\n",
      "Epoch 2/6\n",
      "60000/60000 [==============================] - 82s 1ms/step - loss: 0.2972 - acc: 0.8929 - val_loss: 0.2785 - val_acc: 0.8996\n",
      "Epoch 3/6\n",
      "60000/60000 [==============================] - 82s 1ms/step - loss: 0.2761 - acc: 0.8993 - val_loss: 0.2811 - val_acc: 0.8947\n",
      "Epoch 4/6\n",
      "60000/60000 [==============================] - 85s 1ms/step - loss: 0.2599 - acc: 0.9068 - val_loss: 0.2792 - val_acc: 0.8973\n",
      "Epoch 5/6\n",
      "60000/60000 [==============================] - 84s 1ms/step - loss: 0.2448 - acc: 0.9116 - val_loss: 0.2675 - val_acc: 0.9021\n",
      "Epoch 6/6\n",
      "49152/60000 [=======================>......] - ETA: 14s - loss: 0.2346 - acc: 0.9164"
     ]
    },
    {
     "ename": "KeyboardInterrupt",
     "evalue": "",
     "output_type": "error",
     "traceback": [
      "\u001b[0;31m---------------------------------------------------------------------------\u001b[0m",
      "\u001b[0;31mKeyboardInterrupt\u001b[0m                         Traceback (most recent call last)",
      "\u001b[0;32m<ipython-input-142-a8337334ca36>\u001b[0m in \u001b[0;36m<module>\u001b[0;34m()\u001b[0m\n\u001b[0;32m----> 1\u001b[0;31m \u001b[0mhistory2\u001b[0m\u001b[0;34m=\u001b[0m\u001b[0mmodel_deeper\u001b[0m\u001b[0;34m.\u001b[0m\u001b[0mfit\u001b[0m\u001b[0;34m(\u001b[0m\u001b[0mx_train\u001b[0m\u001b[0;34m,\u001b[0m\u001b[0my_train_hot\u001b[0m\u001b[0;34m,\u001b[0m \u001b[0mbatch_size\u001b[0m\u001b[0;34m=\u001b[0m\u001b[0;36m256\u001b[0m\u001b[0;34m,\u001b[0m \u001b[0mvalidation_data\u001b[0m\u001b[0;34m=\u001b[0m\u001b[0;34m(\u001b[0m\u001b[0mx_test\u001b[0m\u001b[0;34m,\u001b[0m\u001b[0my_test_hot\u001b[0m\u001b[0;34m)\u001b[0m\u001b[0;34m,\u001b[0m \u001b[0mepochs\u001b[0m\u001b[0;34m=\u001b[0m\u001b[0;36m6\u001b[0m\u001b[0;34m)\u001b[0m\u001b[0;34m\u001b[0m\u001b[0m\n\u001b[0m",
      "\u001b[0;32m/usr/local/lib/python3.5/dist-packages/keras/engine/training.py\u001b[0m in \u001b[0;36mfit\u001b[0;34m(self, x, y, batch_size, epochs, verbose, callbacks, validation_split, validation_data, shuffle, class_weight, sample_weight, initial_epoch, steps_per_epoch, validation_steps, **kwargs)\u001b[0m\n\u001b[1;32m   1629\u001b[0m                               \u001b[0minitial_epoch\u001b[0m\u001b[0;34m=\u001b[0m\u001b[0minitial_epoch\u001b[0m\u001b[0;34m,\u001b[0m\u001b[0;34m\u001b[0m\u001b[0m\n\u001b[1;32m   1630\u001b[0m                               \u001b[0msteps_per_epoch\u001b[0m\u001b[0;34m=\u001b[0m\u001b[0msteps_per_epoch\u001b[0m\u001b[0;34m,\u001b[0m\u001b[0;34m\u001b[0m\u001b[0m\n\u001b[0;32m-> 1631\u001b[0;31m                               validation_steps=validation_steps)\n\u001b[0m\u001b[1;32m   1632\u001b[0m \u001b[0;34m\u001b[0m\u001b[0m\n\u001b[1;32m   1633\u001b[0m     def evaluate(self, x=None, y=None,\n",
      "\u001b[0;32m/usr/local/lib/python3.5/dist-packages/keras/engine/training.py\u001b[0m in \u001b[0;36m_fit_loop\u001b[0;34m(self, f, ins, out_labels, batch_size, epochs, verbose, callbacks, val_f, val_ins, shuffle, callback_metrics, initial_epoch, steps_per_epoch, validation_steps)\u001b[0m\n\u001b[1;32m   1211\u001b[0m                     \u001b[0mbatch_logs\u001b[0m\u001b[0;34m[\u001b[0m\u001b[0;34m'size'\u001b[0m\u001b[0;34m]\u001b[0m \u001b[0;34m=\u001b[0m \u001b[0mlen\u001b[0m\u001b[0;34m(\u001b[0m\u001b[0mbatch_ids\u001b[0m\u001b[0;34m)\u001b[0m\u001b[0;34m\u001b[0m\u001b[0m\n\u001b[1;32m   1212\u001b[0m                     \u001b[0mcallbacks\u001b[0m\u001b[0;34m.\u001b[0m\u001b[0mon_batch_begin\u001b[0m\u001b[0;34m(\u001b[0m\u001b[0mbatch_index\u001b[0m\u001b[0;34m,\u001b[0m \u001b[0mbatch_logs\u001b[0m\u001b[0;34m)\u001b[0m\u001b[0;34m\u001b[0m\u001b[0m\n\u001b[0;32m-> 1213\u001b[0;31m                     \u001b[0mouts\u001b[0m \u001b[0;34m=\u001b[0m \u001b[0mf\u001b[0m\u001b[0;34m(\u001b[0m\u001b[0mins_batch\u001b[0m\u001b[0;34m)\u001b[0m\u001b[0;34m\u001b[0m\u001b[0m\n\u001b[0m\u001b[1;32m   1214\u001b[0m                     \u001b[0;32mif\u001b[0m \u001b[0;32mnot\u001b[0m \u001b[0misinstance\u001b[0m\u001b[0;34m(\u001b[0m\u001b[0mouts\u001b[0m\u001b[0;34m,\u001b[0m \u001b[0mlist\u001b[0m\u001b[0;34m)\u001b[0m\u001b[0;34m:\u001b[0m\u001b[0;34m\u001b[0m\u001b[0m\n\u001b[1;32m   1215\u001b[0m                         \u001b[0mouts\u001b[0m \u001b[0;34m=\u001b[0m \u001b[0;34m[\u001b[0m\u001b[0mouts\u001b[0m\u001b[0;34m]\u001b[0m\u001b[0;34m\u001b[0m\u001b[0m\n",
      "\u001b[0;32m/usr/local/lib/python3.5/dist-packages/keras/backend/tensorflow_backend.py\u001b[0m in \u001b[0;36m__call__\u001b[0;34m(self, inputs)\u001b[0m\n\u001b[1;32m   2330\u001b[0m         updated = session.run(self.outputs + [self.updates_op],\n\u001b[1;32m   2331\u001b[0m                               \u001b[0mfeed_dict\u001b[0m\u001b[0;34m=\u001b[0m\u001b[0mfeed_dict\u001b[0m\u001b[0;34m,\u001b[0m\u001b[0;34m\u001b[0m\u001b[0m\n\u001b[0;32m-> 2332\u001b[0;31m                               **self.session_kwargs)\n\u001b[0m\u001b[1;32m   2333\u001b[0m         \u001b[0;32mreturn\u001b[0m \u001b[0mupdated\u001b[0m\u001b[0;34m[\u001b[0m\u001b[0;34m:\u001b[0m\u001b[0mlen\u001b[0m\u001b[0;34m(\u001b[0m\u001b[0mself\u001b[0m\u001b[0;34m.\u001b[0m\u001b[0moutputs\u001b[0m\u001b[0;34m)\u001b[0m\u001b[0;34m]\u001b[0m\u001b[0;34m\u001b[0m\u001b[0m\n\u001b[1;32m   2334\u001b[0m \u001b[0;34m\u001b[0m\u001b[0m\n",
      "\u001b[0;32m/usr/local/lib/python3.5/dist-packages/tensorflow/python/client/session.py\u001b[0m in \u001b[0;36mrun\u001b[0;34m(self, fetches, feed_dict, options, run_metadata)\u001b[0m\n\u001b[1;32m    887\u001b[0m     \u001b[0;32mtry\u001b[0m\u001b[0;34m:\u001b[0m\u001b[0;34m\u001b[0m\u001b[0m\n\u001b[1;32m    888\u001b[0m       result = self._run(None, fetches, feed_dict, options_ptr,\n\u001b[0;32m--> 889\u001b[0;31m                          run_metadata_ptr)\n\u001b[0m\u001b[1;32m    890\u001b[0m       \u001b[0;32mif\u001b[0m \u001b[0mrun_metadata\u001b[0m\u001b[0;34m:\u001b[0m\u001b[0;34m\u001b[0m\u001b[0m\n\u001b[1;32m    891\u001b[0m         \u001b[0mproto_data\u001b[0m \u001b[0;34m=\u001b[0m \u001b[0mtf_session\u001b[0m\u001b[0;34m.\u001b[0m\u001b[0mTF_GetBuffer\u001b[0m\u001b[0;34m(\u001b[0m\u001b[0mrun_metadata_ptr\u001b[0m\u001b[0;34m)\u001b[0m\u001b[0;34m\u001b[0m\u001b[0m\n",
      "\u001b[0;32m/usr/local/lib/python3.5/dist-packages/tensorflow/python/client/session.py\u001b[0m in \u001b[0;36m_run\u001b[0;34m(self, handle, fetches, feed_dict, options, run_metadata)\u001b[0m\n\u001b[1;32m   1118\u001b[0m     \u001b[0;32mif\u001b[0m \u001b[0mfinal_fetches\u001b[0m \u001b[0;32mor\u001b[0m \u001b[0mfinal_targets\u001b[0m \u001b[0;32mor\u001b[0m \u001b[0;34m(\u001b[0m\u001b[0mhandle\u001b[0m \u001b[0;32mand\u001b[0m \u001b[0mfeed_dict_tensor\u001b[0m\u001b[0;34m)\u001b[0m\u001b[0;34m:\u001b[0m\u001b[0;34m\u001b[0m\u001b[0m\n\u001b[1;32m   1119\u001b[0m       results = self._do_run(handle, final_targets, final_fetches,\n\u001b[0;32m-> 1120\u001b[0;31m                              feed_dict_tensor, options, run_metadata)\n\u001b[0m\u001b[1;32m   1121\u001b[0m     \u001b[0;32melse\u001b[0m\u001b[0;34m:\u001b[0m\u001b[0;34m\u001b[0m\u001b[0m\n\u001b[1;32m   1122\u001b[0m       \u001b[0mresults\u001b[0m \u001b[0;34m=\u001b[0m \u001b[0;34m[\u001b[0m\u001b[0;34m]\u001b[0m\u001b[0;34m\u001b[0m\u001b[0m\n",
      "\u001b[0;32m/usr/local/lib/python3.5/dist-packages/tensorflow/python/client/session.py\u001b[0m in \u001b[0;36m_do_run\u001b[0;34m(self, handle, target_list, fetch_list, feed_dict, options, run_metadata)\u001b[0m\n\u001b[1;32m   1315\u001b[0m     \u001b[0;32mif\u001b[0m \u001b[0mhandle\u001b[0m \u001b[0;32mis\u001b[0m \u001b[0;32mNone\u001b[0m\u001b[0;34m:\u001b[0m\u001b[0;34m\u001b[0m\u001b[0m\n\u001b[1;32m   1316\u001b[0m       return self._do_call(_run_fn, self._session, feeds, fetches, targets,\n\u001b[0;32m-> 1317\u001b[0;31m                            options, run_metadata)\n\u001b[0m\u001b[1;32m   1318\u001b[0m     \u001b[0;32melse\u001b[0m\u001b[0;34m:\u001b[0m\u001b[0;34m\u001b[0m\u001b[0m\n\u001b[1;32m   1319\u001b[0m       \u001b[0;32mreturn\u001b[0m \u001b[0mself\u001b[0m\u001b[0;34m.\u001b[0m\u001b[0m_do_call\u001b[0m\u001b[0;34m(\u001b[0m\u001b[0m_prun_fn\u001b[0m\u001b[0;34m,\u001b[0m \u001b[0mself\u001b[0m\u001b[0;34m.\u001b[0m\u001b[0m_session\u001b[0m\u001b[0;34m,\u001b[0m \u001b[0mhandle\u001b[0m\u001b[0;34m,\u001b[0m \u001b[0mfeeds\u001b[0m\u001b[0;34m,\u001b[0m \u001b[0mfetches\u001b[0m\u001b[0;34m)\u001b[0m\u001b[0;34m\u001b[0m\u001b[0m\n",
      "\u001b[0;32m/usr/local/lib/python3.5/dist-packages/tensorflow/python/client/session.py\u001b[0m in \u001b[0;36m_do_call\u001b[0;34m(self, fn, *args)\u001b[0m\n\u001b[1;32m   1321\u001b[0m   \u001b[0;32mdef\u001b[0m \u001b[0m_do_call\u001b[0m\u001b[0;34m(\u001b[0m\u001b[0mself\u001b[0m\u001b[0;34m,\u001b[0m \u001b[0mfn\u001b[0m\u001b[0;34m,\u001b[0m \u001b[0;34m*\u001b[0m\u001b[0margs\u001b[0m\u001b[0;34m)\u001b[0m\u001b[0;34m:\u001b[0m\u001b[0;34m\u001b[0m\u001b[0m\n\u001b[1;32m   1322\u001b[0m     \u001b[0;32mtry\u001b[0m\u001b[0;34m:\u001b[0m\u001b[0;34m\u001b[0m\u001b[0m\n\u001b[0;32m-> 1323\u001b[0;31m       \u001b[0;32mreturn\u001b[0m \u001b[0mfn\u001b[0m\u001b[0;34m(\u001b[0m\u001b[0;34m*\u001b[0m\u001b[0margs\u001b[0m\u001b[0;34m)\u001b[0m\u001b[0;34m\u001b[0m\u001b[0m\n\u001b[0m\u001b[1;32m   1324\u001b[0m     \u001b[0;32mexcept\u001b[0m \u001b[0merrors\u001b[0m\u001b[0;34m.\u001b[0m\u001b[0mOpError\u001b[0m \u001b[0;32mas\u001b[0m \u001b[0me\u001b[0m\u001b[0;34m:\u001b[0m\u001b[0;34m\u001b[0m\u001b[0m\n\u001b[1;32m   1325\u001b[0m       \u001b[0mmessage\u001b[0m \u001b[0;34m=\u001b[0m \u001b[0mcompat\u001b[0m\u001b[0;34m.\u001b[0m\u001b[0mas_text\u001b[0m\u001b[0;34m(\u001b[0m\u001b[0me\u001b[0m\u001b[0;34m.\u001b[0m\u001b[0mmessage\u001b[0m\u001b[0;34m)\u001b[0m\u001b[0;34m\u001b[0m\u001b[0m\n",
      "\u001b[0;32m/usr/local/lib/python3.5/dist-packages/tensorflow/python/client/session.py\u001b[0m in \u001b[0;36m_run_fn\u001b[0;34m(session, feed_dict, fetch_list, target_list, options, run_metadata)\u001b[0m\n\u001b[1;32m   1300\u001b[0m           return tf_session.TF_Run(session, options,\n\u001b[1;32m   1301\u001b[0m                                    \u001b[0mfeed_dict\u001b[0m\u001b[0;34m,\u001b[0m \u001b[0mfetch_list\u001b[0m\u001b[0;34m,\u001b[0m \u001b[0mtarget_list\u001b[0m\u001b[0;34m,\u001b[0m\u001b[0;34m\u001b[0m\u001b[0m\n\u001b[0;32m-> 1302\u001b[0;31m                                    status, run_metadata)\n\u001b[0m\u001b[1;32m   1303\u001b[0m \u001b[0;34m\u001b[0m\u001b[0m\n\u001b[1;32m   1304\u001b[0m     \u001b[0;32mdef\u001b[0m \u001b[0m_prun_fn\u001b[0m\u001b[0;34m(\u001b[0m\u001b[0msession\u001b[0m\u001b[0;34m,\u001b[0m \u001b[0mhandle\u001b[0m\u001b[0;34m,\u001b[0m \u001b[0mfeed_dict\u001b[0m\u001b[0;34m,\u001b[0m \u001b[0mfetch_list\u001b[0m\u001b[0;34m)\u001b[0m\u001b[0;34m:\u001b[0m\u001b[0;34m\u001b[0m\u001b[0m\n",
      "\u001b[0;31mKeyboardInterrupt\u001b[0m: "
     ]
    }
   ],
   "source": [
    "history2=model_deeper.fit(x_train,y_train_hot, batch_size=256, validation_data=(x_test,y_test_hot), epochs=10)\n"
   ]
  },
  {
   "cell_type": "markdown",
   "metadata": {},
   "source": [
    "### Let's use re-learning \n",
    "\n",
    "From \"ImageNet Training in Minutes\": Finishing 90-epoch ImageNet-1k training with ResNet-50 on a NVIDIA M40 GPU takes 14 days. \n",
    "\n",
    "Authors used 1.2 M USD\n",
    "\n",
    "Let's save some money!"
   ]
  },
  {
   "cell_type": "code",
   "execution_count": 167,
   "metadata": {},
   "outputs": [
    {
     "ename": "AttributeError",
     "evalue": "'Tensor' object has no attribute 'output'",
     "output_type": "error",
     "traceback": [
      "\u001b[0;31m---------------------------------------------------------------------------\u001b[0m",
      "\u001b[0;31mAttributeError\u001b[0m                            Traceback (most recent call last)",
      "\u001b[0;32m<ipython-input-167-6038ba6400b9>\u001b[0m in \u001b[0;36m<module>\u001b[0;34m()\u001b[0m\n\u001b[1;32m      5\u001b[0m \u001b[0;34m\u001b[0m\u001b[0m\n\u001b[1;32m      6\u001b[0m \u001b[0mbase_model\u001b[0m \u001b[0;34m=\u001b[0m \u001b[0mMobileNet\u001b[0m\u001b[0;34m(\u001b[0m\u001b[0minput_shape\u001b[0m\u001b[0;34m=\u001b[0m\u001b[0;34m(\u001b[0m\u001b[0;36m128\u001b[0m\u001b[0;34m,\u001b[0m\u001b[0;36m128\u001b[0m\u001b[0;34m,\u001b[0m\u001b[0;36m3\u001b[0m\u001b[0;34m)\u001b[0m\u001b[0;34m,\u001b[0m \u001b[0minclude_top\u001b[0m\u001b[0;34m=\u001b[0m\u001b[0;32mFalse\u001b[0m\u001b[0;34m,\u001b[0m \u001b[0mpooling\u001b[0m\u001b[0;34m=\u001b[0m\u001b[0;34m'avg'\u001b[0m\u001b[0;34m)\u001b[0m\u001b[0;34m(\u001b[0m\u001b[0minputs\u001b[0m\u001b[0;34m)\u001b[0m\u001b[0;34m\u001b[0m\u001b[0m\n\u001b[0;32m----> 7\u001b[0;31m \u001b[0moutput\u001b[0m \u001b[0;34m=\u001b[0m \u001b[0mDropout\u001b[0m\u001b[0;34m(\u001b[0m\u001b[0;36m0.5\u001b[0m\u001b[0;34m)\u001b[0m\u001b[0;34m(\u001b[0m\u001b[0mbase_model\u001b[0m\u001b[0;34m.\u001b[0m\u001b[0moutput\u001b[0m\u001b[0;34m)\u001b[0m\u001b[0;34m\u001b[0m\u001b[0m\n\u001b[0m\u001b[1;32m      8\u001b[0m \u001b[0mpredict\u001b[0m \u001b[0;34m=\u001b[0m \u001b[0mDense\u001b[0m\u001b[0;34m(\u001b[0m\u001b[0mnum_classes\u001b[0m\u001b[0;34m,\u001b[0m \u001b[0mactivation\u001b[0m\u001b[0;34m=\u001b[0m\u001b[0;34m'softmax'\u001b[0m\u001b[0;34m)\u001b[0m\u001b[0;34m(\u001b[0m\u001b[0moutput\u001b[0m\u001b[0;34m)\u001b[0m\u001b[0;34m\u001b[0m\u001b[0m\n\u001b[1;32m      9\u001b[0m \u001b[0;34m\u001b[0m\u001b[0m\n",
      "\u001b[0;31mAttributeError\u001b[0m: 'Tensor' object has no attribute 'output'"
     ]
    }
   ],
   "source": [
    "from keras.applications.mobilenet import MobileNet\n",
    "from keras.layers import Lambda\n",
    "\n",
    "inputs = Input(shape=(128,128,3)) #one color\n",
    "\n",
    "base_model = MobileNet(input_shape=(128,128,3), include_top=False, pooling='avg')(inputs)\n",
    "output = Dropout(0.5)(base_model.output)\n",
    "predict = Dense(num_classes, activation='softmax')(output)\n",
    "\n",
    "model = Model(inputs=input_image, outputs=predict)\n",
    "model.compile(optimizer='adam', loss='sparse_categorical_crossentropy', metrics=['accuracy'])\n",
    "model.summary()"
   ]
  },
  {
   "cell_type": "code",
   "execution_count": 385,
   "metadata": {},
   "outputs": [
    {
     "name": "stdout",
     "output_type": "stream",
     "text": [
      "_________________________________________________________________\n",
      "Layer (type)                 Output Shape              Param #   \n",
      "=================================================================\n",
      "input_99 (InputLayer)        (None, 48, 48, 3)         0         \n",
      "_________________________________________________________________\n",
      "block1_conv1 (Conv2D)        (None, 48, 48, 64)        1792      \n",
      "_________________________________________________________________\n",
      "block1_conv2 (Conv2D)        (None, 48, 48, 64)        36928     \n",
      "_________________________________________________________________\n",
      "block1_pool (MaxPooling2D)   (None, 24, 24, 64)        0         \n",
      "_________________________________________________________________\n",
      "block2_conv1 (Conv2D)        (None, 24, 24, 128)       73856     \n",
      "_________________________________________________________________\n",
      "block2_conv2 (Conv2D)        (None, 24, 24, 128)       147584    \n",
      "_________________________________________________________________\n",
      "block2_pool (MaxPooling2D)   (None, 12, 12, 128)       0         \n",
      "_________________________________________________________________\n",
      "block3_conv1 (Conv2D)        (None, 12, 12, 256)       295168    \n",
      "_________________________________________________________________\n",
      "block3_conv2 (Conv2D)        (None, 12, 12, 256)       590080    \n",
      "_________________________________________________________________\n",
      "block3_conv3 (Conv2D)        (None, 12, 12, 256)       590080    \n",
      "_________________________________________________________________\n",
      "block3_pool (MaxPooling2D)   (None, 6, 6, 256)         0         \n",
      "_________________________________________________________________\n",
      "block4_conv1 (Conv2D)        (None, 6, 6, 512)         1180160   \n",
      "_________________________________________________________________\n",
      "block4_conv2 (Conv2D)        (None, 6, 6, 512)         2359808   \n",
      "_________________________________________________________________\n",
      "block4_conv3 (Conv2D)        (None, 6, 6, 512)         2359808   \n",
      "_________________________________________________________________\n",
      "block4_pool (MaxPooling2D)   (None, 3, 3, 512)         0         \n",
      "_________________________________________________________________\n",
      "block5_conv1 (Conv2D)        (None, 3, 3, 512)         2359808   \n",
      "_________________________________________________________________\n",
      "block5_conv2 (Conv2D)        (None, 3, 3, 512)         2359808   \n",
      "_________________________________________________________________\n",
      "block5_conv3 (Conv2D)        (None, 3, 3, 512)         2359808   \n",
      "_________________________________________________________________\n",
      "block5_pool (MaxPooling2D)   (None, 1, 1, 512)         0         \n",
      "_________________________________________________________________\n",
      "global_average_pooling2d_18  (None, 512)               0         \n",
      "_________________________________________________________________\n",
      "dropout_52 (Dropout)         (None, 512)               0         \n",
      "_________________________________________________________________\n",
      "dense_90 (Dense)             (None, 10)                5130      \n",
      "=================================================================\n",
      "Total params: 14,719,818\n",
      "Trainable params: 14,719,818\n",
      "Non-trainable params: 0\n",
      "_________________________________________________________________\n"
     ]
    }
   ],
   "source": [
    "from keras.applications.mobilenet import MobileNet\n",
    "from keras.applications.vgg16 import VGG16\n",
    "from keras.layers import Input,Dense,Dropout,Lambda\n",
    "from keras.models import Model\n",
    "from keras import backend as K\n",
    "\n",
    "height,width = 56,56\n",
    "\n",
    "#input_image = Input(shape=(128,128,3), name=\"image_input\")\n",
    "\n",
    "base_model =VGG16(include_top=False, pooling='avg', input_shape=(48,48,3),weights='imagenet')\n",
    "output = Dropout(0.5)(base_model.output)\n",
    "predict = Dense(10, activation='softmax')(output)\n",
    "\n",
    "model = Model(inputs=base_model.input, outputs=predict)\n",
    "#model.compile(optimizer='adam', loss='sparse_categorical_crossentropy', metrics=['accuracy'])\n",
    "model.summary()"
   ]
  },
  {
   "cell_type": "code",
   "execution_count": null,
   "metadata": {},
   "outputs": [],
   "source": []
  },
  {
   "cell_type": "code",
   "execution_count": 188,
   "metadata": {},
   "outputs": [
    {
     "name": "stdout",
     "output_type": "stream",
     "text": [
      "_________________________________________________________________\n",
      "Layer (type)                 Output Shape              Param #   \n",
      "=================================================================\n",
      "input_47 (InputLayer)        (None, 128, 128, 3)       0         \n",
      "_________________________________________________________________\n",
      "block1_conv1 (Conv2D)        (None, 128, 128, 64)      1792      \n",
      "_________________________________________________________________\n",
      "block1_conv2 (Conv2D)        (None, 128, 128, 64)      36928     \n",
      "_________________________________________________________________\n",
      "block1_pool (MaxPooling2D)   (None, 64, 64, 64)        0         \n",
      "_________________________________________________________________\n",
      "block2_conv1 (Conv2D)        (None, 64, 64, 128)       73856     \n",
      "_________________________________________________________________\n",
      "block2_conv2 (Conv2D)        (None, 64, 64, 128)       147584    \n",
      "_________________________________________________________________\n",
      "block2_pool (MaxPooling2D)   (None, 32, 32, 128)       0         \n",
      "_________________________________________________________________\n",
      "block3_conv1 (Conv2D)        (None, 32, 32, 256)       295168    \n",
      "_________________________________________________________________\n",
      "block3_conv2 (Conv2D)        (None, 32, 32, 256)       590080    \n",
      "_________________________________________________________________\n",
      "block3_conv3 (Conv2D)        (None, 32, 32, 256)       590080    \n",
      "_________________________________________________________________\n",
      "block3_pool (MaxPooling2D)   (None, 16, 16, 256)       0         \n",
      "_________________________________________________________________\n",
      "block4_conv1 (Conv2D)        (None, 16, 16, 512)       1180160   \n",
      "_________________________________________________________________\n",
      "block4_conv2 (Conv2D)        (None, 16, 16, 512)       2359808   \n",
      "_________________________________________________________________\n",
      "block4_conv3 (Conv2D)        (None, 16, 16, 512)       2359808   \n",
      "_________________________________________________________________\n",
      "block4_pool (MaxPooling2D)   (None, 8, 8, 512)         0         \n",
      "_________________________________________________________________\n",
      "block5_conv1 (Conv2D)        (None, 8, 8, 512)         2359808   \n",
      "_________________________________________________________________\n",
      "block5_conv2 (Conv2D)        (None, 8, 8, 512)         2359808   \n",
      "_________________________________________________________________\n",
      "block5_conv3 (Conv2D)        (None, 8, 8, 512)         2359808   \n",
      "_________________________________________________________________\n",
      "block5_pool (MaxPooling2D)   (None, 4, 4, 512)         0         \n",
      "_________________________________________________________________\n",
      "global_average_pooling2d_14  (None, 512)               0         \n",
      "_________________________________________________________________\n",
      "dropout_16 (Dropout)         (None, 512)               0         \n",
      "_________________________________________________________________\n",
      "dense_15 (Dense)             (None, 10)                5130      \n",
      "=================================================================\n",
      "Total params: 14,719,818\n",
      "Trainable params: 5,130\n",
      "Non-trainable params: 14,714,688\n",
      "_________________________________________________________________\n"
     ]
    }
   ],
   "source": [
    "#for layer in base_model.layers:\n",
    "#    layer.trainable = False\n",
    "for layer in model.layers:\n",
    "    layer.trainable=False\n",
    "    #print(layer.name)\n",
    "\n",
    "model.layers[-1].trainable=True\n",
    "model.summary()"
   ]
  },
  {
   "cell_type": "code",
   "execution_count": 375,
   "metadata": {},
   "outputs": [],
   "source": [
    "from skimage.transform import resize\n",
    "\n",
    "from functools import partial\n",
    "\n",
    "def resize_images(image_structure,output_shape=(48,48)):\n",
    "    resize_func=partial(resize,output_shape=output_shape)\n",
    "    x,y=output_shape\n",
    "    resized=np.zeros((len(image_structure),x,y))\n",
    "\n",
    "    for num in range(len(image_structure)):\n",
    "        resized[num,:,:]=resize_func(image_structure[num,:,:])\n",
    "    return resized   \n",
    "def make_rgb(image_structure):\n",
    "    ll,w,h=image_structure.shape\n",
    "    rgb_array=np.zeros((ll,w,h,3))\n",
    "    \n",
    "    normalized=image_structure\n",
    "    \n",
    "    rgb_array[...,0]=normalized\n",
    "    rgb_array[...,1]=normalized\n",
    "    rgb_array[...,2]=normalized\n",
    "    return rgb_array\n"
   ]
  },
  {
   "cell_type": "code",
   "execution_count": 376,
   "metadata": {},
   "outputs": [
    {
     "name": "stderr",
     "output_type": "stream",
     "text": [
      "/usr/local/lib/python3.5/dist-packages/skimage/transform/_warps.py:84: UserWarning: The default mode, 'constant', will be changed to 'reflect' in skimage 0.15.\n",
      "  warn(\"The default mode, 'constant', will be changed to 'reflect' in \"\n"
     ]
    },
    {
     "name": "stdout",
     "output_type": "stream",
     "text": [
      "(60000, 48, 48, 3)\n",
      "(10000, 48, 48, 3)\n"
     ]
    }
   ],
   "source": [
    "from keras.preprocessing.image import ImageDataGenerator\n",
    "\n",
    "(x_train, y_train), (x_test, y_test) = fashion_mnist.load_data()\n",
    "\n",
    "\n",
    "\n",
    "\n",
    "x_train_rgb=make_rgb(resize_images(x_train))\n",
    "x_test_rgb=make_rgb(resize_images(x_test))\n",
    "\n",
    "print(x_train_rgb.shape)\n",
    "print(x_test_rgb.shape)"
   ]
  },
  {
   "cell_type": "code",
   "execution_count": 378,
   "metadata": {},
   "outputs": [
    {
     "name": "stdout",
     "output_type": "stream",
     "text": [
      "60000/60000 [==============================] - 1170s 20ms/step\n"
     ]
    }
   ],
   "source": [
    "# first bottleneck\n",
    "\n",
    "from keras.applications.mobilenet import MobileNet\n",
    "from keras.applications.vgg16 import VGG16\n",
    "\n",
    "\n",
    "\n",
    "\n",
    "#input_image = Input(shape=(128,128,3), name=\"image_input\")\n",
    "\n",
    "base_model =VGG16(include_top=False, pooling=None, input_shape=(48,48,3))\n",
    "features=base_model.predict(x_train_rgb, batch_size=100, verbose=1)"
   ]
  },
  {
   "cell_type": "code",
   "execution_count": 379,
   "metadata": {},
   "outputs": [],
   "source": [
    "np.save('features_train.npy',features)\n"
   ]
  },
  {
   "cell_type": "code",
   "execution_count": 380,
   "metadata": {},
   "outputs": [
    {
     "name": "stdout",
     "output_type": "stream",
     "text": [
      "10000/10000 [==============================] - 195s 19ms/step\n"
     ]
    }
   ],
   "source": [
    "features_test=base_model.predict(x_test_rgb, batch_size=100, verbose=1)\n",
    "np.save('features_test.npy',features_test)\n"
   ]
  },
  {
   "cell_type": "code",
   "execution_count": 381,
   "metadata": {},
   "outputs": [
    {
     "data": {
      "text/plain": [
       "(10000, 1, 1, 512)"
      ]
     },
     "execution_count": 381,
     "metadata": {},
     "output_type": "execute_result"
    }
   ],
   "source": [
    "features_test.shape"
   ]
  },
  {
   "cell_type": "code",
   "execution_count": 382,
   "metadata": {
    "scrolled": true
   },
   "outputs": [
    {
     "name": "stdout",
     "output_type": "stream",
     "text": [
      "_________________________________________________________________\n",
      "Layer (type)                 Output Shape              Param #   \n",
      "=================================================================\n",
      "input_98 (InputLayer)        (None, 1, 1, 512)         0         \n",
      "_________________________________________________________________\n",
      "flatten_12 (Flatten)         (None, 512)               0         \n",
      "_________________________________________________________________\n",
      "dense_88 (Dense)             (None, 20)                10260     \n",
      "_________________________________________________________________\n",
      "dropout_51 (Dropout)         (None, 20)                0         \n",
      "_________________________________________________________________\n",
      "dense_89 (Dense)             (None, 10)                210       \n",
      "=================================================================\n",
      "Total params: 10,470\n",
      "Trainable params: 10,470\n",
      "Non-trainable params: 0\n",
      "_________________________________________________________________\n"
     ]
    }
   ],
   "source": [
    "# super simple model using the features\n",
    "\n",
    "inputs_features = Input(shape=(1,1,512)) \n",
    "flatten=Flatten()(inputs_features)\n",
    "fc=Dense(20, activation=\"relu\")(flatten)\n",
    "dropout=Dropout(0.5)(fc)\n",
    "predict = Dense(10, activation='softmax')(dropout)\n",
    "\n",
    "model_bottleneck = Model(inputs=inputs_features, outputs=predict)\n",
    "model_bottleneck.compile(optimizer='rmsprop', loss='categorical_crossentropy', metrics=['accuracy'])\n",
    "model_bottleneck.summary()"
   ]
  },
  {
   "cell_type": "code",
   "execution_count": 384,
   "metadata": {},
   "outputs": [
    {
     "name": "stdout",
     "output_type": "stream",
     "text": [
      "Epoch 1/100\n",
      "60000/60000 [==============================] - 1s 10us/step - loss: 0.7326 - acc: 0.7335\n",
      "Epoch 2/100\n",
      "60000/60000 [==============================] - 1s 10us/step - loss: 0.7320 - acc: 0.7322\n",
      "Epoch 3/100\n",
      "60000/60000 [==============================] - 1s 10us/step - loss: 0.7250 - acc: 0.7378\n",
      "Epoch 4/100\n",
      "60000/60000 [==============================] - 1s 10us/step - loss: 0.7192 - acc: 0.7390\n",
      "Epoch 5/100\n",
      "60000/60000 [==============================] - 1s 10us/step - loss: 0.7122 - acc: 0.7408\n",
      "Epoch 6/100\n",
      "60000/60000 [==============================] - 1s 10us/step - loss: 0.7048 - acc: 0.7436\n",
      "Epoch 7/100\n",
      "60000/60000 [==============================] - 1s 10us/step - loss: 0.6989 - acc: 0.7469\n",
      "Epoch 8/100\n",
      "60000/60000 [==============================] - 1s 10us/step - loss: 0.6968 - acc: 0.7473\n",
      "Epoch 9/100\n",
      "60000/60000 [==============================] - 1s 10us/step - loss: 0.6921 - acc: 0.7478\n",
      "Epoch 10/100\n",
      "60000/60000 [==============================] - 1s 10us/step - loss: 0.6862 - acc: 0.7503\n",
      "Epoch 11/100\n",
      "60000/60000 [==============================] - 1s 10us/step - loss: 0.6828 - acc: 0.7534\n",
      "Epoch 12/100\n",
      "60000/60000 [==============================] - 1s 10us/step - loss: 0.6758 - acc: 0.7529\n",
      "Epoch 13/100\n",
      "60000/60000 [==============================] - 1s 10us/step - loss: 0.6760 - acc: 0.7539\n",
      "Epoch 14/100\n",
      "60000/60000 [==============================] - 1s 11us/step - loss: 0.6772 - acc: 0.7538\n",
      "Epoch 15/100\n",
      "60000/60000 [==============================] - 1s 11us/step - loss: 0.6769 - acc: 0.7534\n",
      "Epoch 16/100\n",
      "60000/60000 [==============================] - 1s 10us/step - loss: 0.6675 - acc: 0.7592\n",
      "Epoch 17/100\n",
      "60000/60000 [==============================] - 1s 11us/step - loss: 0.6594 - acc: 0.7591\n",
      "Epoch 18/100\n",
      "60000/60000 [==============================] - 1s 10us/step - loss: 0.6624 - acc: 0.7597\n",
      "Epoch 19/100\n",
      "60000/60000 [==============================] - 1s 10us/step - loss: 0.6674 - acc: 0.7595: 0s - loss: 0.6475 - \n",
      "Epoch 20/100\n",
      "60000/60000 [==============================] - 1s 10us/step - loss: 0.6607 - acc: 0.7598\n",
      "Epoch 21/100\n",
      "60000/60000 [==============================] - 1s 10us/step - loss: 0.6609 - acc: 0.7588\n",
      "Epoch 22/100\n",
      "60000/60000 [==============================] - 1s 10us/step - loss: 0.6509 - acc: 0.7637\n",
      "Epoch 23/100\n",
      "60000/60000 [==============================] - 1s 10us/step - loss: 0.6598 - acc: 0.7598\n",
      "Epoch 24/100\n",
      "60000/60000 [==============================] - 1s 11us/step - loss: 0.6529 - acc: 0.7606\n",
      "Epoch 25/100\n",
      "60000/60000 [==============================] - 1s 11us/step - loss: 0.6509 - acc: 0.7630\n",
      "Epoch 26/100\n",
      "60000/60000 [==============================] - 1s 11us/step - loss: 0.6580 - acc: 0.7623\n",
      "Epoch 27/100\n",
      "60000/60000 [==============================] - 1s 10us/step - loss: 0.6501 - acc: 0.7619\n",
      "Epoch 28/100\n",
      "60000/60000 [==============================] - 1s 10us/step - loss: 0.6487 - acc: 0.7631\n",
      "Epoch 29/100\n",
      "60000/60000 [==============================] - 1s 10us/step - loss: 0.6506 - acc: 0.7634\n",
      "Epoch 30/100\n",
      "60000/60000 [==============================] - 1s 11us/step - loss: 0.6439 - acc: 0.7656\n",
      "Epoch 31/100\n",
      "60000/60000 [==============================] - 1s 11us/step - loss: 0.6460 - acc: 0.7664\n",
      "Epoch 32/100\n",
      "60000/60000 [==============================] - 1s 11us/step - loss: 0.6486 - acc: 0.7626\n",
      "Epoch 33/100\n",
      "60000/60000 [==============================] - 1s 10us/step - loss: 0.6455 - acc: 0.7633\n",
      "Epoch 34/100\n",
      "60000/60000 [==============================] - 1s 10us/step - loss: 0.6434 - acc: 0.7668\n",
      "Epoch 35/100\n",
      "60000/60000 [==============================] - 1s 11us/step - loss: 0.6483 - acc: 0.7621\n",
      "Epoch 36/100\n",
      "60000/60000 [==============================] - 1s 11us/step - loss: 0.6397 - acc: 0.7673\n",
      "Epoch 37/100\n",
      "60000/60000 [==============================] - 1s 11us/step - loss: 0.6446 - acc: 0.7669\n",
      "Epoch 38/100\n",
      "60000/60000 [==============================] - 1s 10us/step - loss: 0.6398 - acc: 0.7655\n",
      "Epoch 39/100\n",
      "60000/60000 [==============================] - 1s 10us/step - loss: 0.6367 - acc: 0.7669\n",
      "Epoch 40/100\n",
      "60000/60000 [==============================] - 1s 11us/step - loss: 0.6385 - acc: 0.7686\n",
      "Epoch 41/100\n",
      "60000/60000 [==============================] - 1s 10us/step - loss: 0.6357 - acc: 0.7685\n",
      "Epoch 42/100\n",
      "60000/60000 [==============================] - 1s 10us/step - loss: 0.6385 - acc: 0.7675\n",
      "Epoch 43/100\n",
      "60000/60000 [==============================] - 1s 10us/step - loss: 0.6334 - acc: 0.7690\n",
      "Epoch 44/100\n",
      "60000/60000 [==============================] - 1s 10us/step - loss: 0.6362 - acc: 0.7686\n",
      "Epoch 45/100\n",
      "60000/60000 [==============================] - 1s 10us/step - loss: 0.6333 - acc: 0.7697\n",
      "Epoch 46/100\n",
      "60000/60000 [==============================] - 1s 10us/step - loss: 0.6373 - acc: 0.7686\n",
      "Epoch 47/100\n",
      "60000/60000 [==============================] - 1s 11us/step - loss: 0.6337 - acc: 0.7701\n",
      "Epoch 48/100\n",
      "60000/60000 [==============================] - 1s 11us/step - loss: 0.6324 - acc: 0.7717\n",
      "Epoch 49/100\n",
      "60000/60000 [==============================] - 1s 11us/step - loss: 0.6320 - acc: 0.7685\n",
      "Epoch 50/100\n",
      "60000/60000 [==============================] - 1s 10us/step - loss: 0.6379 - acc: 0.7667\n",
      "Epoch 51/100\n",
      "60000/60000 [==============================] - 1s 11us/step - loss: 0.6315 - acc: 0.7696\n",
      "Epoch 52/100\n",
      "60000/60000 [==============================] - 1s 11us/step - loss: 0.6257 - acc: 0.7730\n",
      "Epoch 53/100\n",
      "60000/60000 [==============================] - 1s 10us/step - loss: 0.6293 - acc: 0.7695\n",
      "Epoch 54/100\n",
      "60000/60000 [==============================] - 1s 10us/step - loss: 0.6316 - acc: 0.7692\n",
      "Epoch 55/100\n",
      "60000/60000 [==============================] - 1s 10us/step - loss: 0.6249 - acc: 0.7725\n",
      "Epoch 56/100\n",
      "60000/60000 [==============================] - 1s 10us/step - loss: 0.6273 - acc: 0.7700\n",
      "Epoch 57/100\n",
      "60000/60000 [==============================] - 1s 10us/step - loss: 0.6176 - acc: 0.7756\n",
      "Epoch 58/100\n",
      "60000/60000 [==============================] - 1s 10us/step - loss: 0.6325 - acc: 0.7696\n",
      "Epoch 59/100\n",
      "60000/60000 [==============================] - 1s 10us/step - loss: 0.6299 - acc: 0.7701\n",
      "Epoch 60/100\n",
      "60000/60000 [==============================] - 1s 10us/step - loss: 0.6272 - acc: 0.7723\n",
      "Epoch 61/100\n",
      "60000/60000 [==============================] - 1s 10us/step - loss: 0.6276 - acc: 0.7732\n",
      "Epoch 62/100\n",
      "60000/60000 [==============================] - 1s 10us/step - loss: 0.6249 - acc: 0.7731\n",
      "Epoch 63/100\n",
      "60000/60000 [==============================] - 1s 11us/step - loss: 0.6216 - acc: 0.7748\n",
      "Epoch 64/100\n",
      "60000/60000 [==============================] - 1s 10us/step - loss: 0.6261 - acc: 0.7730\n",
      "Epoch 65/100\n",
      "60000/60000 [==============================] - 1s 12us/step - loss: 0.6257 - acc: 0.7731\n",
      "Epoch 66/100\n",
      "60000/60000 [==============================] - 1s 12us/step - loss: 0.6246 - acc: 0.7710\n",
      "Epoch 67/100\n",
      "60000/60000 [==============================] - 1s 11us/step - loss: 0.6255 - acc: 0.7727\n",
      "Epoch 68/100\n",
      "60000/60000 [==============================] - 1s 11us/step - loss: 0.6257 - acc: 0.7728\n",
      "Epoch 69/100\n",
      "60000/60000 [==============================] - 1s 11us/step - loss: 0.6245 - acc: 0.7725\n",
      "Epoch 70/100\n",
      "60000/60000 [==============================] - 1s 11us/step - loss: 0.6215 - acc: 0.7750\n",
      "Epoch 71/100\n",
      "60000/60000 [==============================] - 1s 11us/step - loss: 0.6247 - acc: 0.7726\n",
      "Epoch 72/100\n",
      "60000/60000 [==============================] - 1s 10us/step - loss: 0.6191 - acc: 0.7733\n",
      "Epoch 73/100\n",
      "60000/60000 [==============================] - 1s 10us/step - loss: 0.6171 - acc: 0.7740\n",
      "Epoch 74/100\n",
      "60000/60000 [==============================] - 1s 11us/step - loss: 0.6214 - acc: 0.7737\n",
      "Epoch 75/100\n",
      "60000/60000 [==============================] - 1s 10us/step - loss: 0.6233 - acc: 0.7721\n",
      "Epoch 76/100\n",
      "60000/60000 [==============================] - 1s 10us/step - loss: 0.6175 - acc: 0.7765\n",
      "Epoch 77/100\n",
      "60000/60000 [==============================] - 1s 10us/step - loss: 0.6188 - acc: 0.7734\n",
      "Epoch 78/100\n",
      "60000/60000 [==============================] - 1s 11us/step - loss: 0.6190 - acc: 0.7757\n",
      "Epoch 79/100\n",
      "60000/60000 [==============================] - 1s 10us/step - loss: 0.6224 - acc: 0.7736\n",
      "Epoch 80/100\n",
      "60000/60000 [==============================] - 1s 10us/step - loss: 0.6154 - acc: 0.7743\n",
      "Epoch 81/100\n"
     ]
    },
    {
     "name": "stdout",
     "output_type": "stream",
     "text": [
      "60000/60000 [==============================] - 1s 10us/step - loss: 0.6215 - acc: 0.7732\n",
      "Epoch 82/100\n",
      "60000/60000 [==============================] - 1s 10us/step - loss: 0.6188 - acc: 0.7747\n",
      "Epoch 83/100\n",
      "60000/60000 [==============================] - 1s 10us/step - loss: 0.6169 - acc: 0.7759\n",
      "Epoch 84/100\n",
      "60000/60000 [==============================] - 1s 10us/step - loss: 0.6199 - acc: 0.7749\n",
      "Epoch 85/100\n",
      "60000/60000 [==============================] - 1s 10us/step - loss: 0.6185 - acc: 0.7754\n",
      "Epoch 86/100\n",
      "60000/60000 [==============================] - 1s 10us/step - loss: 0.6153 - acc: 0.7770\n",
      "Epoch 87/100\n",
      "60000/60000 [==============================] - 1s 10us/step - loss: 0.6157 - acc: 0.7756\n",
      "Epoch 88/100\n",
      "60000/60000 [==============================] - 1s 10us/step - loss: 0.6169 - acc: 0.7740\n",
      "Epoch 89/100\n",
      "60000/60000 [==============================] - 1s 10us/step - loss: 0.6175 - acc: 0.7744\n",
      "Epoch 90/100\n",
      "60000/60000 [==============================] - 1s 10us/step - loss: 0.6188 - acc: 0.7760\n",
      "Epoch 91/100\n",
      "60000/60000 [==============================] - 1s 10us/step - loss: 0.6173 - acc: 0.7753\n",
      "Epoch 92/100\n",
      "60000/60000 [==============================] - 1s 10us/step - loss: 0.6197 - acc: 0.7745\n",
      "Epoch 93/100\n",
      "60000/60000 [==============================] - 1s 10us/step - loss: 0.6162 - acc: 0.7748\n",
      "Epoch 94/100\n",
      "60000/60000 [==============================] - 1s 10us/step - loss: 0.6146 - acc: 0.7773\n",
      "Epoch 95/100\n",
      "60000/60000 [==============================] - 1s 10us/step - loss: 0.6166 - acc: 0.7759\n",
      "Epoch 96/100\n",
      "60000/60000 [==============================] - 1s 10us/step - loss: 0.6163 - acc: 0.7759\n",
      "Epoch 97/100\n",
      "60000/60000 [==============================] - 1s 10us/step - loss: 0.6155 - acc: 0.7752\n",
      "Epoch 98/100\n",
      "60000/60000 [==============================] - 1s 10us/step - loss: 0.6169 - acc: 0.7743\n",
      "Epoch 99/100\n",
      "60000/60000 [==============================] - 1s 10us/step - loss: 0.6167 - acc: 0.7747\n",
      "Epoch 100/100\n",
      "60000/60000 [==============================] - 1s 10us/step - loss: 0.6108 - acc: 0.7792\n"
     ]
    },
    {
     "data": {
      "text/plain": [
       "<keras.callbacks.History at 0x7f16b3f4a278>"
      ]
     },
     "execution_count": 384,
     "metadata": {},
     "output_type": "execute_result"
    }
   ],
   "source": [
    "\n",
    "#features_l=np.expand_dims(features,-1)\n",
    "#features_l=np.expand_dims(features_l,-1)\n",
    "#features_l.shape\n",
    "model_bottleneck.fit(features,y_train_hot, batch_size=500, epochs=100)"
   ]
  },
  {
   "cell_type": "code",
   "execution_count": 317,
   "metadata": {},
   "outputs": [
    {
     "ename": "ValueError",
     "evalue": "Error when checking target: expected dense_73 to have 3 dimensions, but got array with shape (60000, 10)",
     "output_type": "error",
     "traceback": [
      "\u001b[0;31m---------------------------------------------------------------------------\u001b[0m",
      "\u001b[0;31mValueError\u001b[0m                                Traceback (most recent call last)",
      "\u001b[0;32m<ipython-input-317-a7328eb21216>\u001b[0m in \u001b[0;36m<module>\u001b[0;34m()\u001b[0m\n\u001b[1;32m      1\u001b[0m \u001b[0mfeatures_l\u001b[0m\u001b[0;34m=\u001b[0m\u001b[0mnp\u001b[0m\u001b[0;34m.\u001b[0m\u001b[0mexpand_dims\u001b[0m\u001b[0;34m(\u001b[0m\u001b[0mfeatures\u001b[0m\u001b[0;34m,\u001b[0m\u001b[0;34m-\u001b[0m\u001b[0;36m1\u001b[0m\u001b[0;34m)\u001b[0m\u001b[0;34m\u001b[0m\u001b[0m\n\u001b[1;32m      2\u001b[0m \u001b[0;31m#features_l=np.expand_dims(features_l,-1)\u001b[0m\u001b[0;34m\u001b[0m\u001b[0;34m\u001b[0m\u001b[0m\n\u001b[0;32m----> 3\u001b[0;31m \u001b[0mmodel_bottleneck\u001b[0m\u001b[0;34m.\u001b[0m\u001b[0mfit\u001b[0m\u001b[0;34m(\u001b[0m\u001b[0mfeatures_l\u001b[0m\u001b[0;34m,\u001b[0m\u001b[0my_train_hot\u001b[0m\u001b[0;34m)\u001b[0m\u001b[0;34m\u001b[0m\u001b[0m\n\u001b[0m",
      "\u001b[0;32m/usr/local/lib/python3.5/dist-packages/keras/engine/training.py\u001b[0m in \u001b[0;36mfit\u001b[0;34m(self, x, y, batch_size, epochs, verbose, callbacks, validation_split, validation_data, shuffle, class_weight, sample_weight, initial_epoch, steps_per_epoch, validation_steps, **kwargs)\u001b[0m\n\u001b[1;32m   1553\u001b[0m             \u001b[0mclass_weight\u001b[0m\u001b[0;34m=\u001b[0m\u001b[0mclass_weight\u001b[0m\u001b[0;34m,\u001b[0m\u001b[0;34m\u001b[0m\u001b[0m\n\u001b[1;32m   1554\u001b[0m             \u001b[0mcheck_batch_axis\u001b[0m\u001b[0;34m=\u001b[0m\u001b[0;32mFalse\u001b[0m\u001b[0;34m,\u001b[0m\u001b[0;34m\u001b[0m\u001b[0m\n\u001b[0;32m-> 1555\u001b[0;31m             batch_size=batch_size)\n\u001b[0m\u001b[1;32m   1556\u001b[0m         \u001b[0;31m# Prepare validation data.\u001b[0m\u001b[0;34m\u001b[0m\u001b[0;34m\u001b[0m\u001b[0m\n\u001b[1;32m   1557\u001b[0m         \u001b[0mdo_validation\u001b[0m \u001b[0;34m=\u001b[0m \u001b[0;32mFalse\u001b[0m\u001b[0;34m\u001b[0m\u001b[0m\n",
      "\u001b[0;32m/usr/local/lib/python3.5/dist-packages/keras/engine/training.py\u001b[0m in \u001b[0;36m_standardize_user_data\u001b[0;34m(self, x, y, sample_weight, class_weight, check_batch_axis, batch_size)\u001b[0m\n\u001b[1;32m   1411\u001b[0m                                     \u001b[0moutput_shapes\u001b[0m\u001b[0;34m,\u001b[0m\u001b[0;34m\u001b[0m\u001b[0m\n\u001b[1;32m   1412\u001b[0m                                     \u001b[0mcheck_batch_axis\u001b[0m\u001b[0;34m=\u001b[0m\u001b[0;32mFalse\u001b[0m\u001b[0;34m,\u001b[0m\u001b[0;34m\u001b[0m\u001b[0m\n\u001b[0;32m-> 1413\u001b[0;31m                                     exception_prefix='target')\n\u001b[0m\u001b[1;32m   1414\u001b[0m         sample_weights = _standardize_sample_weights(sample_weight,\n\u001b[1;32m   1415\u001b[0m                                                      self._feed_output_names)\n",
      "\u001b[0;32m/usr/local/lib/python3.5/dist-packages/keras/engine/training.py\u001b[0m in \u001b[0;36m_standardize_input_data\u001b[0;34m(data, names, shapes, check_batch_axis, exception_prefix)\u001b[0m\n\u001b[1;32m    140\u001b[0m                                  \u001b[0;34m' to have '\u001b[0m \u001b[0;34m+\u001b[0m \u001b[0mstr\u001b[0m\u001b[0;34m(\u001b[0m\u001b[0mlen\u001b[0m\u001b[0;34m(\u001b[0m\u001b[0mshapes\u001b[0m\u001b[0;34m[\u001b[0m\u001b[0mi\u001b[0m\u001b[0;34m]\u001b[0m\u001b[0;34m)\u001b[0m\u001b[0;34m)\u001b[0m \u001b[0;34m+\u001b[0m\u001b[0;34m\u001b[0m\u001b[0m\n\u001b[1;32m    141\u001b[0m                                  \u001b[0;34m' dimensions, but got array with shape '\u001b[0m \u001b[0;34m+\u001b[0m\u001b[0;34m\u001b[0m\u001b[0m\n\u001b[0;32m--> 142\u001b[0;31m                                  str(array.shape))\n\u001b[0m\u001b[1;32m    143\u001b[0m             \u001b[0;32mfor\u001b[0m \u001b[0mj\u001b[0m\u001b[0;34m,\u001b[0m \u001b[0;34m(\u001b[0m\u001b[0mdim\u001b[0m\u001b[0;34m,\u001b[0m \u001b[0mref_dim\u001b[0m\u001b[0;34m)\u001b[0m \u001b[0;32min\u001b[0m \u001b[0menumerate\u001b[0m\u001b[0;34m(\u001b[0m\u001b[0mzip\u001b[0m\u001b[0;34m(\u001b[0m\u001b[0marray\u001b[0m\u001b[0;34m.\u001b[0m\u001b[0mshape\u001b[0m\u001b[0;34m,\u001b[0m \u001b[0mshapes\u001b[0m\u001b[0;34m[\u001b[0m\u001b[0mi\u001b[0m\u001b[0;34m]\u001b[0m\u001b[0;34m)\u001b[0m\u001b[0;34m)\u001b[0m\u001b[0;34m:\u001b[0m\u001b[0;34m\u001b[0m\u001b[0m\n\u001b[1;32m    144\u001b[0m                 \u001b[0;32mif\u001b[0m \u001b[0;32mnot\u001b[0m \u001b[0mj\u001b[0m \u001b[0;32mand\u001b[0m \u001b[0;32mnot\u001b[0m \u001b[0mcheck_batch_axis\u001b[0m\u001b[0;34m:\u001b[0m\u001b[0;34m\u001b[0m\u001b[0m\n",
      "\u001b[0;31mValueError\u001b[0m: Error when checking target: expected dense_73 to have 3 dimensions, but got array with shape (60000, 10)"
     ]
    }
   ],
   "source": []
  },
  {
   "cell_type": "markdown",
   "metadata": {},
   "source": [
    "### \" Nudne i żmudne\"\n",
    "\n",
    " 1. Data preprocessing, text, sequence and *image* preprocessing\n",
    " 2. Inspection and raporting the learning process\n",
    " 3. Modyfing the learning process\n",
    " 4. Using in production"
   ]
  },
  {
   "cell_type": "markdown",
   "metadata": {},
   "source": [
    "## Data preprocessing:\n",
    "\n",
    " -> Encode images and their labels\n",
    " -> Pipeline images through pre processing data-augmentation\n",
    " -> In case of text, seqences : encode, filter,tokenize  normalize "
   ]
  },
  {
   "cell_type": "markdown",
   "metadata": {},
   "source": [
    "## Inspecting\n",
    "\n",
    "Using Keras *callbacks* during the learning process:\n",
    "    \n",
    "    - Loggers & monitors: base history, TensorBoard, CSVLogger\n"
   ]
  },
  {
   "cell_type": "markdown",
   "metadata": {},
   "source": [
    "## Modyfing\n",
    "\n",
    "ReduceLROnPlateau\n",
    "LearningRateScheduler\n",
    "EarlyFinisher"
   ]
  },
  {
   "cell_type": "markdown",
   "metadata": {},
   "source": [
    "## Using in production\n",
    "\n",
    "Keras models with TensorFlow backend \n",
    "Tensorflow can be set up with TensorFLow Serving\n",
    "\n",
    "Keras models can also be used in smartphone application \n",
    "\n",
    "also, webpages K"
   ]
  }
 ],
 "metadata": {
  "celltoolbar": "Slideshow",
  "kernelspec": {
   "display_name": "Python 3",
   "language": "python",
   "name": "python3"
  },
  "language_info": {
   "codemirror_mode": {
    "name": "ipython",
    "version": 3
   },
   "file_extension": ".py",
   "mimetype": "text/x-python",
   "name": "python",
   "nbconvert_exporter": "python",
   "pygments_lexer": "ipython3",
   "version": "3.5.2"
  }
 },
 "nbformat": 4,
 "nbformat_minor": 2
}
